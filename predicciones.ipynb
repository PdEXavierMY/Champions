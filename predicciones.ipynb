{
 "cells": [
  {
   "cell_type": "markdown",
   "metadata": {},
   "source": [
    "Vamos a cargar las librerias y datos necesarios:"
   ]
  },
  {
   "cell_type": "code",
   "execution_count": 63,
   "metadata": {},
   "outputs": [],
   "source": [
    "import pandas as pd\n",
    "import tensorflow as tf\n",
    "import numpy as np\n",
    "\n",
    "\n",
    "uefa_ranking = pd.read_csv('data/uefa_ranking.csv')\n",
    "goles = pd.read_csv('data/equipos-goles.csv')\n",
    "ultimas_victorias = pd.read_csv('data/victorias.csv')\n",
    "champions = pd.read_csv('data/champions_wins.csv')\n",
    "\n",
    "\n",
    "# Crear un diccionario para mapear nombres de equipos a números únicos\n",
    "team_mapping = {team: idx + 1 for idx, team in enumerate(uefa_ranking['Club'])}\n",
    "\n",
    "\n",
    "#Funcion puntaje para la prediccion de partidos\n",
    "def score_prediction(team, tarjetaA=0, tarjetaR=0, foulC=0, foulS=0):\n",
    "    uefa_score = uefa_ranking.loc[uefa_ranking['Club'] == team, 'Total Points'].values[0]\n",
    "    ngoles = goles.loc[goles['Equipo'] == team, 'Goles'].values[0] if not goles.loc[goles['Equipo'] == team, 'Goles'].empty else 0\n",
    "    victorias = ultimas_victorias.loc[ultimas_victorias['Equipo'] == team, 'Victorias'].values[0] if not ultimas_victorias.loc[ultimas_victorias['Equipo'] == team, 'Victorias'].empty else 0\n",
    "    nchampions = champions.loc[champions['Equipo'] == team, 'Champions'].values[0] if not champions.loc[champions['Equipo'] == team, 'Champions'].empty else 0\n",
    "    return uefa_score + ngoles + victorias + foulS - tarjetaA - tarjetaR*2 - foulC + nchampions"
   ]
  },
  {
   "cell_type": "markdown",
   "metadata": {},
   "source": [
    "<h4>Cuartos, primer partido: Atlético Madrid vs Borussia Dortmund"
   ]
  },
  {
   "cell_type": "code",
   "execution_count": 64,
   "metadata": {},
   "outputs": [
    {
     "name": "stdout",
     "output_type": "stream",
     "text": [
      "El número de la columna 'Total Points' correspondiente al equipo Atlético Madrid es: 234.0\n",
      "El número de la columna 'Total Points' correspondiente al equipo Borussia Dortmund es: 243.0\n"
     ]
    }
   ],
   "source": [
    "equipo1 = \"Atlético Madrid\"\n",
    "equipo2 = \"Borussia Dortmund\"\n",
    "\n",
    "# Encontrar el índice de la columna 'Total Points'\n",
    "indice_total_points = uefa_ranking.columns.get_loc('Total Points')\n",
    "\n",
    "# Obtener el valor de 'Total Points' correspondiente al equipo\n",
    "total_points_equipo1 = score_prediction(equipo1, 26, 1, 115, 86)\n",
    "total_points_equipo2 = score_prediction(equipo2, 18, 0, 116, 101)\n",
    "\n",
    "print(\"El número de la columna 'Total Points' correspondiente al equipo\", equipo1, \"es:\", total_points_equipo1)\n",
    "print(\"El número de la columna 'Total Points' correspondiente al equipo\", equipo2, \"es:\", total_points_equipo2)\n"
   ]
  },
  {
   "cell_type": "code",
   "execution_count": 65,
   "metadata": {},
   "outputs": [
    {
     "name": "stderr",
     "output_type": "stream",
     "text": [
      "WARNING:absl:Compiled the loaded model, but the compiled metrics have yet to be built. `model.compile_metrics` will be empty until you train or evaluate the model.\n"
     ]
    },
    {
     "name": "stdout",
     "output_type": "stream",
     "text": [
      "\u001b[1m1/1\u001b[0m \u001b[32m━━━━━━━━━━━━━━━━━━━━\u001b[0m\u001b[37m\u001b[0m \u001b[1m0s\u001b[0m 72ms/step\n",
      "Probabilidad de que gane Atlético Madrid en la ronda 9 es:\n",
      "[[0.21176827]]\n",
      "\u001b[1m1/1\u001b[0m \u001b[32m━━━━━━━━━━━━━━━━━━━━\u001b[0m\u001b[37m\u001b[0m \u001b[1m0s\u001b[0m 28ms/step\n",
      "Probabilidad de que gane Borussia Dortmund en la ronda 10 es:\n",
      "[[0.3256074]]\n",
      "El ganador del partido entre Atlético Madrid y Borussia Dortmund es: Borussia Dortmund\n"
     ]
    }
   ],
   "source": [
    "def predecir_ganador(equipo1, equipo2, total_points_equipo1, total_points_equipo2, team_mapping):\n",
    "    # Cargar el modelo\n",
    "    model = tf.keras.models.load_model(\"model2.h5\")\n",
    "\n",
    "    # Mapear los nombres de los equipos a los números únicos usando team_mapping\n",
    "    equipo1_map = team_mapping[equipo1]\n",
    "    equipo2_map = team_mapping[equipo2]\n",
    "\n",
    "    # Definir la información del partido\n",
    "    round_number = 9  # Ronda correspondiente\n",
    "\n",
    "    # Crear una matriz de características para la predicción\n",
    "    prediction_features = np.array([[round_number, equipo1_map, equipo2_map, total_points_equipo1, total_points_equipo2]])\n",
    "\n",
    "    # Hacer la predicción utilizando el modelo cargado\n",
    "    prediction1 = model.predict(prediction_features)\n",
    "\n",
    "    # Imprimir la predicción\n",
    "    print(f\"Probabilidad de que gane {equipo1} en la ronda 9 es:\")\n",
    "    print(prediction1)\n",
    "\n",
    "    # Definir la información del partido para la siguiente ronda\n",
    "    round_number = 10  # Ronda correspondiente\n",
    "\n",
    "    # Intercambiar los equipos para la siguiente predicción\n",
    "    equipo1_map, equipo2_map = equipo2_map, equipo1_map\n",
    "    total_points_equipo1, total_points_equipo2 = total_points_equipo2, total_points_equipo1\n",
    "\n",
    "    # Crear una matriz de características para la predicción de la siguiente ronda\n",
    "    prediction_features = np.array([[round_number, equipo1_map, equipo2_map, total_points_equipo1, total_points_equipo2]])\n",
    "\n",
    "    # Hacer la predicción utilizando el modelo cargado\n",
    "    prediction2 = model.predict(prediction_features)\n",
    "\n",
    "    # Imprimir la predicción\n",
    "    print(f\"Probabilidad de que gane {equipo2} en la ronda 10 es:\")\n",
    "    print(prediction2)\n",
    "\n",
    "    # Calcular el porcentaje de predicción de cada equipo\n",
    "    percentage_prediction1 = prediction1[0][0]\n",
    "    percentage_prediction2 = prediction2[0][0]\n",
    "\n",
    "    # Calcular la probabilidad acumulada de cada equipo\n",
    "    cumulative_probability1 = (percentage_prediction1 + (1 - percentage_prediction2))/2\n",
    "    cumulative_probability2 = (percentage_prediction2 + (1 - percentage_prediction1))/2\n",
    "\n",
    "    # Determinar el ganador\n",
    "    if cumulative_probability1 > cumulative_probability2:\n",
    "        winner = equipo1\n",
    "    else:\n",
    "        winner = equipo2\n",
    "\n",
    "    # Retornar el ganador\n",
    "    return winner\n",
    "\n",
    "# Predecir el ganador del partido entre \"Atlético Madrid\" y \"Borussia Dortmund\"\n",
    "ganador = predecir_ganador(equipo1, equipo2, total_points_equipo1, total_points_equipo2, team_mapping)\n",
    "print(\"El ganador del partido entre\", equipo1, \"y\", equipo2, \"es:\", ganador)"
   ]
  },
  {
   "cell_type": "markdown",
   "metadata": {},
   "source": [
    "<h4>Cuartos, segundo partido: Paris Saint-Germain vs FC Barcelona"
   ]
  },
  {
   "cell_type": "code",
   "execution_count": 66,
   "metadata": {},
   "outputs": [
    {
     "name": "stdout",
     "output_type": "stream",
     "text": [
      "El número de la columna 'Total Points' correspondiente al equipo Paris Saint-Germain es: 343.0\n",
      "El número de la columna 'Total Points' correspondiente al equipo FC Barcelona es: 377.0\n"
     ]
    }
   ],
   "source": [
    "equipo1 = \"Paris Saint-Germain\"\n",
    "equipo2 = \"FC Barcelona\"\n",
    "\n",
    "# Encontrar el índice de la columna 'Total Points'\n",
    "indice_total_points = uefa_ranking.columns.get_loc('Total Points')\n",
    "\n",
    "# Obtener el valor de 'Total Points' correspondiente al equipo\n",
    "total_points_equipo1 = score_prediction(equipo1, 28, 0, 126, 120)\n",
    "total_points_equipo2 = score_prediction(equipo2, 31, 3, 104, 117)\n",
    "\n",
    "print(\"El número de la columna 'Total Points' correspondiente al equipo\", equipo1, \"es:\", total_points_equipo1)\n",
    "print(\"El número de la columna 'Total Points' correspondiente al equipo\", equipo2, \"es:\", total_points_equipo2)\n"
   ]
  },
  {
   "cell_type": "code",
   "execution_count": 67,
   "metadata": {},
   "outputs": [
    {
     "name": "stderr",
     "output_type": "stream",
     "text": [
      "WARNING:absl:Compiled the loaded model, but the compiled metrics have yet to be built. `model.compile_metrics` will be empty until you train or evaluate the model.\n"
     ]
    },
    {
     "name": "stdout",
     "output_type": "stream",
     "text": [
      "\u001b[1m1/1\u001b[0m \u001b[32m━━━━━━━━━━━━━━━━━━━━\u001b[0m\u001b[37m\u001b[0m \u001b[1m0s\u001b[0m 88ms/step\n",
      "Probabilidad de que gane Paris Saint-Germain en la ronda 9 es:\n",
      "[[0.21175884]]\n",
      "\u001b[1m1/1\u001b[0m \u001b[32m━━━━━━━━━━━━━━━━━━━━\u001b[0m\u001b[37m\u001b[0m \u001b[1m0s\u001b[0m 28ms/step\n",
      "Probabilidad de que gane FC Barcelona en la ronda 10 es:\n",
      "[[0.4451071]]\n",
      "El ganador del partido entre Paris Saint-Germain y FC Barcelona es: FC Barcelona\n"
     ]
    }
   ],
   "source": [
    "# Predecir el ganador del partido entre \"Paris Saint-Germain\" y \"FC Barcelona\"\n",
    "ganador = predecir_ganador(equipo1, equipo2, total_points_equipo1, total_points_equipo2, team_mapping)\n",
    "print(\"El ganador del partido entre\", equipo1, \"y\", equipo2, \"es:\", ganador)"
   ]
  },
  {
   "cell_type": "markdown",
   "metadata": {},
   "source": [
    "<h4>Cuartos, tercer partido: Arsenal vs Bayern München"
   ]
  },
  {
   "cell_type": "code",
   "execution_count": 68,
   "metadata": {},
   "outputs": [
    {
     "name": "stdout",
     "output_type": "stream",
     "text": [
      "El número de la columna 'Total Points' correspondiente al equipo Arsenal es: 137.0\n",
      "El número de la columna 'Total Points' correspondiente al equipo Bayern München es: 508.0\n"
     ]
    }
   ],
   "source": [
    "equipo1 = \"Arsenal\"\n",
    "equipo2 = \"Bayern München\"\n",
    "\n",
    "# Encontrar el índice de la columna 'Total Points'\n",
    "indice_total_points = uefa_ranking.columns.get_loc('Total Points')\n",
    "\n",
    "# Obtener el valor de 'Total Points' correspondiente al equipo\n",
    "total_points_equipo1 = score_prediction(equipo1, 14, 0, 129, 109)\n",
    "total_points_equipo2 = score_prediction(equipo2, 15, 1, 112, 109)\n",
    "\n",
    "print(\"El número de la columna 'Total Points' correspondiente al equipo\", equipo1, \"es:\", total_points_equipo1)\n",
    "print(\"El número de la columna 'Total Points' correspondiente al equipo\", equipo2, \"es:\", total_points_equipo2)\n"
   ]
  },
  {
   "cell_type": "code",
   "execution_count": 69,
   "metadata": {},
   "outputs": [
    {
     "name": "stderr",
     "output_type": "stream",
     "text": [
      "WARNING:absl:Compiled the loaded model, but the compiled metrics have yet to be built. `model.compile_metrics` will be empty until you train or evaluate the model.\n"
     ]
    },
    {
     "name": "stdout",
     "output_type": "stream",
     "text": [
      "\u001b[1m1/1\u001b[0m \u001b[32m━━━━━━━━━━━━━━━━━━━━\u001b[0m\u001b[37m\u001b[0m \u001b[1m0s\u001b[0m 78ms/step\n",
      "Probabilidad de que gane Arsenal en la ronda 9 es:\n",
      "[[0.12390766]]\n",
      "\u001b[1m1/1\u001b[0m \u001b[32m━━━━━━━━━━━━━━━━━━━━\u001b[0m\u001b[37m\u001b[0m \u001b[1m0s\u001b[0m 52ms/step\n",
      "Probabilidad de que gane Bayern München en la ronda 10 es:\n",
      "[[0.77128613]]\n",
      "El ganador del partido entre Arsenal y Bayern München es: Bayern München\n"
     ]
    }
   ],
   "source": [
    "# Predecir el ganador del partido entre \"Arsenal\" y \"Bayern München\"\n",
    "ganador = predecir_ganador(equipo1, equipo2, total_points_equipo1, total_points_equipo2, team_mapping)\n",
    "print(\"El ganador del partido entre\", equipo1, \"y\", equipo2, \"es:\", ganador)"
   ]
  },
  {
   "cell_type": "markdown",
   "metadata": {},
   "source": [
    "<h4>Cuartos, cuarto partido: Real Madrid vs Manchester City"
   ]
  },
  {
   "cell_type": "code",
   "execution_count": 70,
   "metadata": {},
   "outputs": [
    {
     "name": "stdout",
     "output_type": "stream",
     "text": [
      "El número de la columna 'Total Points' correspondiente al equipo Real Madrid es: 547.0\n",
      "El número de la columna 'Total Points' correspondiente al equipo Manchester City es: 501.0\n"
     ]
    }
   ],
   "source": [
    "equipo1 = \"Real Madrid\"\n",
    "equipo2 = \"Manchester City\"\n",
    "\n",
    "# Encontrar el índice de la columna 'Total Points'\n",
    "indice_total_points = uefa_ranking.columns.get_loc('Total Points')\n",
    "\n",
    "# Obtener el valor de 'Total Points' correspondiente al equipo\n",
    "total_points_equipo1 = score_prediction(equipo1, 20, 0, 110, 111)\n",
    "total_points_equipo2 = score_prediction(equipo2, 10, 0, 74, 125)\n",
    "\n",
    "print(\"El número de la columna 'Total Points' correspondiente al equipo\", equipo1, \"es:\", total_points_equipo1)\n",
    "print(\"El número de la columna 'Total Points' correspondiente al equipo\", equipo2, \"es:\", total_points_equipo2)\n"
   ]
  },
  {
   "cell_type": "code",
   "execution_count": 71,
   "metadata": {},
   "outputs": [
    {
     "name": "stderr",
     "output_type": "stream",
     "text": [
      "WARNING:absl:Compiled the loaded model, but the compiled metrics have yet to be built. `model.compile_metrics` will be empty until you train or evaluate the model.\n"
     ]
    },
    {
     "name": "stdout",
     "output_type": "stream",
     "text": [
      "\u001b[1m1/1\u001b[0m \u001b[32m━━━━━━━━━━━━━━━━━━━━\u001b[0m\u001b[37m\u001b[0m \u001b[1m0s\u001b[0m 167ms/step\n",
      "Probabilidad de que gane Real Madrid en la ronda 9 es:\n",
      "[[0.4451071]]\n",
      "\u001b[1m1/1\u001b[0m \u001b[32m━━━━━━━━━━━━━━━━━━━━\u001b[0m\u001b[37m\u001b[0m \u001b[1m0s\u001b[0m 32ms/step\n",
      "Probabilidad de que gane Manchester City en la ronda 10 es:\n",
      "[[0.21175884]]\n",
      "El ganador del partido entre Real Madrid y Manchester City es: Real Madrid\n"
     ]
    }
   ],
   "source": [
    "# Predecir el ganador del partido entre \"Real Madrid\" y \"Manchester City\"\n",
    "ganador = predecir_ganador(equipo1, equipo2, total_points_equipo1, total_points_equipo2, team_mapping)\n",
    "print(\"El ganador del partido entre\", equipo1, \"y\", equipo2, \"es:\", ganador)"
   ]
  },
  {
   "cell_type": "markdown",
   "metadata": {},
   "source": [
    "<h3>Semis, primer partido: Borussia Dortmund vs FC Barcelona (predicción inicial)"
   ]
  },
  {
   "cell_type": "code",
   "execution_count": 72,
   "metadata": {},
   "outputs": [
    {
     "name": "stdout",
     "output_type": "stream",
     "text": [
      "El número de la columna 'Total Points' correspondiente al equipo Borussia Dortmund es: 368.0\n",
      "El número de la columna 'Total Points' correspondiente al equipo FC Barcelona es: 377.0\n"
     ]
    }
   ],
   "source": [
    "equipo1 = \"Borussia Dortmund\"\n",
    "equipo2 = \"FC Barcelona\"\n",
    "\n",
    "# Encontrar el índice de la columna 'Total Points'\n",
    "indice_total_points = uefa_ranking.columns.get_loc('Total Points')\n",
    "\n",
    "# Obtener el valor de 'Total Points' correspondiente al equipo\n",
    "total_points_equipo1 = score_prediction(equipo2, 18, 0, 116, 101)\n",
    "total_points_equipo2 = score_prediction(equipo2, 31, 3, 104, 117)\n",
    "\n",
    "print(\"El número de la columna 'Total Points' correspondiente al equipo\", equipo1, \"es:\", total_points_equipo1)\n",
    "print(\"El número de la columna 'Total Points' correspondiente al equipo\", equipo2, \"es:\", total_points_equipo2)\n"
   ]
  },
  {
   "cell_type": "code",
   "execution_count": 73,
   "metadata": {},
   "outputs": [
    {
     "name": "stderr",
     "output_type": "stream",
     "text": [
      "WARNING:absl:Compiled the loaded model, but the compiled metrics have yet to be built. `model.compile_metrics` will be empty until you train or evaluate the model.\n"
     ]
    },
    {
     "name": "stdout",
     "output_type": "stream",
     "text": [
      "\u001b[1m1/1\u001b[0m \u001b[32m━━━━━━━━━━━━━━━━━━━━\u001b[0m\u001b[37m\u001b[0m \u001b[1m0s\u001b[0m 89ms/step\n",
      "Probabilidad de que gane Borussia Dortmund en la ronda 9 es:\n",
      "[[0.21176271]]\n",
      "\u001b[1m1/1\u001b[0m \u001b[32m━━━━━━━━━━━━━━━━━━━━\u001b[0m\u001b[37m\u001b[0m \u001b[1m0s\u001b[0m 31ms/step\n",
      "Probabilidad de que gane FC Barcelona en la ronda 10 es:\n",
      "[[0.43403956]]\n",
      "El ganador del partido entre Borussia Dortmund y FC Barcelona es: FC Barcelona\n"
     ]
    }
   ],
   "source": [
    "# Predecir el ganador del partido entre \"Borussia Dortmund\" y \"FC Barcelona\"\n",
    "ganador = predecir_ganador(equipo1, equipo2, total_points_equipo1, total_points_equipo2, team_mapping)\n",
    "print(\"El ganador del partido entre\", equipo1, \"y\", equipo2, \"es:\", ganador)"
   ]
  },
  {
   "cell_type": "markdown",
   "metadata": {},
   "source": [
    "<h3>Semis, primer partido: Borussia Dortmund vs Paris Saint-Germain"
   ]
  },
  {
   "cell_type": "code",
   "execution_count": 74,
   "metadata": {},
   "outputs": [
    {
     "name": "stdout",
     "output_type": "stream",
     "text": [
      "El número de la columna 'Total Points' correspondiente al equipo Borussia Dortmund es: 243.0\n",
      "El número de la columna 'Total Points' correspondiente al equipo Paris Saint-Germain es: 343.0\n"
     ]
    }
   ],
   "source": [
    "equipo1 = \"Borussia Dortmund\"\n",
    "equipo2 = \"Paris Saint-Germain\"\n",
    "\n",
    "# Encontrar el índice de la columna 'Total Points'\n",
    "indice_total_points = uefa_ranking.columns.get_loc('Total Points')\n",
    "\n",
    "# Obtener el valor de 'Total Points' correspondiente al equipo\n",
    "total_points_equipo1 = score_prediction(equipo1, 18, 0, 116, 101)\n",
    "total_points_equipo2 = score_prediction(equipo2, 28, 0, 126, 120)\n",
    "\n",
    "print(\"El número de la columna 'Total Points' correspondiente al equipo\", equipo1, \"es:\", total_points_equipo1)\n",
    "print(\"El número de la columna 'Total Points' correspondiente al equipo\", equipo2, \"es:\", total_points_equipo2)\n"
   ]
  },
  {
   "cell_type": "code",
   "execution_count": 75,
   "metadata": {},
   "outputs": [
    {
     "name": "stderr",
     "output_type": "stream",
     "text": [
      "WARNING:absl:Compiled the loaded model, but the compiled metrics have yet to be built. `model.compile_metrics` will be empty until you train or evaluate the model.\n"
     ]
    },
    {
     "name": "stdout",
     "output_type": "stream",
     "text": [
      "\u001b[1m1/1\u001b[0m \u001b[32m━━━━━━━━━━━━━━━━━━━━\u001b[0m\u001b[37m\u001b[0m \u001b[1m0s\u001b[0m 117ms/step\n",
      "Probabilidad de que gane Borussia Dortmund en la ronda 9 es:\n",
      "[[0.13642538]]\n",
      "\u001b[1m1/1\u001b[0m \u001b[32m━━━━━━━━━━━━━━━━━━━━\u001b[0m\u001b[37m\u001b[0m \u001b[1m0s\u001b[0m 26ms/step\n",
      "Probabilidad de que gane Paris Saint-Germain en la ronda 10 es:\n",
      "[[0.82387644]]\n",
      "El ganador del partido entre Borussia Dortmund y Paris Saint-Germain es: Paris Saint-Germain\n"
     ]
    }
   ],
   "source": [
    "# Predecir el ganador del partido entre \"Borussia Dortmund\" y \"Paris Saint-Germain\"\n",
    "ganador = predecir_ganador(equipo1, equipo2, total_points_equipo1, total_points_equipo2, team_mapping)\n",
    "print(\"El ganador del partido entre\", equipo1, \"y\", equipo2, \"es:\", ganador)"
   ]
  },
  {
   "cell_type": "markdown",
   "metadata": {},
   "source": [
    "<h3>Semis, segundo partido: Bayern München vs Real Madrid (predicción inicial)"
   ]
  },
  {
   "cell_type": "code",
   "execution_count": 76,
   "metadata": {},
   "outputs": [
    {
     "name": "stdout",
     "output_type": "stream",
     "text": [
      "El número de la columna 'Total Points' correspondiente al equipo Bayern München es: 508.0\n",
      "El número de la columna 'Total Points' correspondiente al equipo Real Madrid es: 547.0\n"
     ]
    }
   ],
   "source": [
    "equipo1 = \"Bayern München\"\n",
    "equipo2 = \"Real Madrid\"\n",
    "\n",
    "# Encontrar el índice de la columna 'Total Points'\n",
    "indice_total_points = uefa_ranking.columns.get_loc('Total Points')\n",
    "\n",
    "# Obtener el valor de 'Total Points' correspondiente al equipo\n",
    "total_points_equipo1 = score_prediction(equipo1, 15, 1, 112, 109)\n",
    "total_points_equipo2 = score_prediction(equipo2, 20, 0, 110, 111)\n",
    "\n",
    "print(\"El número de la columna 'Total Points' correspondiente al equipo\", equipo1, \"es:\", total_points_equipo1)\n",
    "print(\"El número de la columna 'Total Points' correspondiente al equipo\", equipo2, \"es:\", total_points_equipo2)"
   ]
  },
  {
   "cell_type": "code",
   "execution_count": 77,
   "metadata": {},
   "outputs": [
    {
     "name": "stderr",
     "output_type": "stream",
     "text": [
      "WARNING:absl:Compiled the loaded model, but the compiled metrics have yet to be built. `model.compile_metrics` will be empty until you train or evaluate the model.\n"
     ]
    },
    {
     "name": "stdout",
     "output_type": "stream",
     "text": [
      "\u001b[1m1/1\u001b[0m \u001b[32m━━━━━━━━━━━━━━━━━━━━\u001b[0m\u001b[37m\u001b[0m \u001b[1m0s\u001b[0m 77ms/step\n",
      "Probabilidad de que gane Bayern München en la ronda 9 es:\n",
      "[[0.21175884]]\n",
      "\u001b[1m1/1\u001b[0m \u001b[32m━━━━━━━━━━━━━━━━━━━━\u001b[0m\u001b[37m\u001b[0m \u001b[1m0s\u001b[0m 27ms/step\n",
      "Probabilidad de que gane Real Madrid en la ronda 10 es:\n",
      "[[0.4451071]]\n",
      "El ganador del partido entre Bayern München y Real Madrid es: Real Madrid\n"
     ]
    }
   ],
   "source": [
    "# Predecir el ganador del partido entre \"Bayern München\" y \"Real Madrid\"\n",
    "ganador = predecir_ganador(equipo1, equipo2, total_points_equipo1, total_points_equipo2, team_mapping)\n",
    "print(\"El ganador del partido entre\", equipo1, \"y\", equipo2, \"es:\", ganador)"
   ]
  },
  {
   "cell_type": "markdown",
   "metadata": {},
   "source": [
    "<h2>Final: FC Barcelona vs Real Madrid (predicción inicial)"
   ]
  },
  {
   "cell_type": "code",
   "execution_count": 78,
   "metadata": {},
   "outputs": [
    {
     "name": "stdout",
     "output_type": "stream",
     "text": [
      "El número de la columna 'Total Points' correspondiente al equipo FC Barcelona es: 377.0\n",
      "El número de la columna 'Total Points' correspondiente al equipo Real Madrid es: 547.0\n"
     ]
    }
   ],
   "source": [
    "equipo1 = \"FC Barcelona\"\n",
    "equipo2 = \"Real Madrid\"\n",
    "\n",
    "# Encontrar el índice de la columna 'Total Points'\n",
    "indice_total_points = uefa_ranking.columns.get_loc('Total Points')\n",
    "\n",
    "# Obtener el valor de 'Total Points' correspondiente al equipo\n",
    "total_points_equipo1 = score_prediction(equipo1, 31, 3, 104, 117)\n",
    "total_points_equipo2 = score_prediction(equipo2, 20, 0, 110, 111)\n",
    "\n",
    "print(\"El número de la columna 'Total Points' correspondiente al equipo\", equipo1, \"es:\", total_points_equipo1)\n",
    "print(\"El número de la columna 'Total Points' correspondiente al equipo\", equipo2, \"es:\", total_points_equipo2)"
   ]
  },
  {
   "cell_type": "code",
   "execution_count": 79,
   "metadata": {},
   "outputs": [
    {
     "name": "stderr",
     "output_type": "stream",
     "text": [
      "WARNING:absl:Compiled the loaded model, but the compiled metrics have yet to be built. `model.compile_metrics` will be empty until you train or evaluate the model.\n"
     ]
    },
    {
     "name": "stdout",
     "output_type": "stream",
     "text": [
      "\u001b[1m1/1\u001b[0m \u001b[32m━━━━━━━━━━━━━━━━━━━━\u001b[0m\u001b[37m\u001b[0m \u001b[1m0s\u001b[0m 72ms/step\n",
      "Probabilidad de que gane FC Barcelona en la ronda 9 es:\n",
      "[[0.13631794]]\n",
      "\u001b[1m1/1\u001b[0m \u001b[32m━━━━━━━━━━━━━━━━━━━━\u001b[0m\u001b[37m\u001b[0m \u001b[1m0s\u001b[0m 29ms/step\n",
      "Probabilidad de que gane Real Madrid en la ronda 10 es:\n",
      "[[0.8250693]]\n",
      "El ganador del partido entre FC Barcelona y Real Madrid es: Real Madrid\n"
     ]
    }
   ],
   "source": [
    "# Predecir el ganador del partido entre \"FC Barcelona\" y \"Real Madrid\"\n",
    "ganador = predecir_ganador(equipo1, equipo2, total_points_equipo1, total_points_equipo2, team_mapping)\n",
    "print(\"El ganador del partido entre\", equipo1, \"y\", equipo2, \"es:\", ganador)"
   ]
  },
  {
   "cell_type": "markdown",
   "metadata": {},
   "source": [
    "<h1>Por lo tanto, el ganador de la Champions es: REAL MADRID!"
   ]
  },
  {
   "cell_type": "markdown",
   "metadata": {},
   "source": [
    "<h2>Final: PSG vs Real Madrid (2ª predicción inicial)"
   ]
  },
  {
   "cell_type": "code",
   "execution_count": 80,
   "metadata": {},
   "outputs": [
    {
     "name": "stdout",
     "output_type": "stream",
     "text": [
      "El número de la columna 'Total Points' correspondiente al equipo Paris Saint-Germain es: 343.0\n",
      "El número de la columna 'Total Points' correspondiente al equipo Real Madrid es: 547.0\n"
     ]
    }
   ],
   "source": [
    "equipo1 = \"Paris Saint-Germain\"\n",
    "equipo2 = \"Real Madrid\"\n",
    "\n",
    "# Encontrar el índice de la columna 'Total Points'\n",
    "indice_total_points = uefa_ranking.columns.get_loc('Total Points')\n",
    "\n",
    "# Obtener el valor de 'Total Points' correspondiente al equipo\n",
    "total_points_equipo1 = score_prediction(equipo1, 28, 0, 126, 120)\n",
    "total_points_equipo2 = score_prediction(equipo2, 20, 0, 110, 111)\n",
    "\n",
    "print(\"El número de la columna 'Total Points' correspondiente al equipo\", equipo1, \"es:\", total_points_equipo1)\n",
    "print(\"El número de la columna 'Total Points' correspondiente al equipo\", equipo2, \"es:\", total_points_equipo2)\n"
   ]
  },
  {
   "cell_type": "code",
   "execution_count": 81,
   "metadata": {},
   "outputs": [
    {
     "name": "stderr",
     "output_type": "stream",
     "text": [
      "WARNING:absl:Compiled the loaded model, but the compiled metrics have yet to be built. `model.compile_metrics` will be empty until you train or evaluate the model.\n"
     ]
    },
    {
     "name": "stdout",
     "output_type": "stream",
     "text": [
      "\u001b[1m1/1\u001b[0m \u001b[32m━━━━━━━━━━━━━━━━━━━━\u001b[0m\u001b[37m\u001b[0m \u001b[1m0s\u001b[0m 75ms/step\n",
      "Probabilidad de que gane Paris Saint-Germain en la ronda 9 es:\n",
      "[[0.13631792]]\n",
      "\u001b[1m1/1\u001b[0m \u001b[32m━━━━━━━━━━━━━━━━━━━━\u001b[0m\u001b[37m\u001b[0m \u001b[1m0s\u001b[0m 31ms/step\n",
      "Probabilidad de que gane Real Madrid en la ronda 10 es:\n",
      "[[0.75811684]]\n",
      "El ganador del partido entre Paris Saint-Germain y Real Madrid es: Real Madrid\n"
     ]
    }
   ],
   "source": [
    "# Predecir el ganador del partido entre \"Paris Saint-Germain\" y \"Real Madrid\"\n",
    "ganador = predecir_ganador(equipo1, equipo2, total_points_equipo1, total_points_equipo2, team_mapping)\n",
    "print(\"El ganador del partido entre\", equipo1, \"y\", equipo2, \"es:\", ganador)"
   ]
  },
  {
   "cell_type": "markdown",
   "metadata": {},
   "source": [
    "<h1>Por lo tanto, el ganador de la Champions es: REAL MADRID!"
   ]
  }
 ],
 "metadata": {
  "kernelspec": {
   "display_name": "venv",
   "language": "python",
   "name": "python3"
  },
  "language_info": {
   "codemirror_mode": {
    "name": "ipython",
    "version": 3
   },
   "file_extension": ".py",
   "mimetype": "text/x-python",
   "name": "python",
   "nbconvert_exporter": "python",
   "pygments_lexer": "ipython3",
   "version": "3.10.0"
  }
 },
 "nbformat": 4,
 "nbformat_minor": 2
}
