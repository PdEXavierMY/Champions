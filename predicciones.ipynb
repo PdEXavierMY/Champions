{
 "cells": [
  {
   "cell_type": "markdown",
   "metadata": {},
   "source": [
    "Vamos a cargar las librerias y datos necesarios:"
   ]
  },
  {
   "cell_type": "code",
   "execution_count": 2,
   "metadata": {},
   "outputs": [],
   "source": [
    "import pandas as pd\n",
    "import tensorflow as tf\n",
    "import numpy as np\n",
    "\n",
    "\n",
    "uefa_ranking = pd.read_csv('data/uefa_ranking.csv')\n",
    "\n",
    "\n",
    "# Crear un diccionario para mapear nombres de equipos a números únicos\n",
    "team_mapping = {team: idx + 1 for idx, team in enumerate(uefa_ranking['Club'])}\n",
    "\n",
    "\n",
    "#Funcion puntaje para la prediccion de partidos"
   ]
  },
  {
   "cell_type": "markdown",
   "metadata": {},
   "source": [
    "<h4>Cuartos, primer partido: Atlético Madrid vs Borussia Dortmund"
   ]
  },
  {
   "cell_type": "code",
   "execution_count": 3,
   "metadata": {},
   "outputs": [
    {
     "name": "stdout",
     "output_type": "stream",
     "text": [
      "El número de la columna 'Total Points' correspondiente al equipo Atlético Madrid es: 218.0\n",
      "El número de la columna 'Total Points' correspondiente al equipo Borussia Dortmund es: 179.0\n"
     ]
    }
   ],
   "source": [
    "equipo1 = \"Atlético Madrid\"\n",
    "equipo2 = \"Borussia Dortmund\"\n",
    "\n",
    "# Encontrar el índice de la columna 'Total Points'\n",
    "indice_total_points = uefa_ranking.columns.get_loc('Total Points')\n",
    "\n",
    "# Obtener el valor de 'Total Points' correspondiente al equipo\n",
    "total_points_equipo1 = uefa_ranking.loc[uefa_ranking['Club'] == equipo1, 'Total Points'].values[0]\n",
    "total_points_equipo2 = uefa_ranking.loc[uefa_ranking['Club'] == equipo2, 'Total Points'].values[0]\n",
    "\n",
    "print(\"El número de la columna 'Total Points' correspondiente al equipo\", equipo1, \"es:\", total_points_equipo1)\n",
    "print(\"El número de la columna 'Total Points' correspondiente al equipo\", equipo2, \"es:\", total_points_equipo2)\n"
   ]
  },
  {
   "cell_type": "code",
   "execution_count": 4,
   "metadata": {},
   "outputs": [
    {
     "name": "stderr",
     "output_type": "stream",
     "text": [
      "WARNING:absl:Compiled the loaded model, but the compiled metrics have yet to be built. `model.compile_metrics` will be empty until you train or evaluate the model.\n"
     ]
    },
    {
     "name": "stdout",
     "output_type": "stream",
     "text": [
      "\u001b[1m1/1\u001b[0m \u001b[32m━━━━━━━━━━━━━━━━━━━━\u001b[0m\u001b[37m\u001b[0m \u001b[1m0s\u001b[0m 240ms/step\n",
      "Probabilidad de que gane Atlético Madrid en la ronda 9 es:\n",
      "[[0.7258141]]\n",
      "\u001b[1m1/1\u001b[0m \u001b[32m━━━━━━━━━━━━━━━━━━━━\u001b[0m\u001b[37m\u001b[0m \u001b[1m0s\u001b[0m 32ms/step\n",
      "Probabilidad de que gane Borussia Dortmund en la ronda 10 es:\n",
      "[[0.22052413]]\n",
      "El ganador del partido entre Atlético Madrid y Borussia Dortmund es: Atlético Madrid\n"
     ]
    }
   ],
   "source": [
    "def predecir_ganador(equipo1, equipo2, total_points_equipo1, total_points_equipo2, team_mapping):\n",
    "    # Cargar el modelo\n",
    "    model = tf.keras.models.load_model(\"model2.h5\")\n",
    "\n",
    "    # Mapear los nombres de los equipos a los números únicos usando team_mapping\n",
    "    equipo1_map = team_mapping[equipo1]\n",
    "    equipo2_map = team_mapping[equipo2]\n",
    "\n",
    "    # Definir la información del partido\n",
    "    round_number = 9  # Ronda correspondiente\n",
    "\n",
    "    # Crear una matriz de características para la predicción\n",
    "    prediction_features = np.array([[round_number, equipo1_map, equipo2_map, total_points_equipo1, total_points_equipo2]])\n",
    "\n",
    "    # Hacer la predicción utilizando el modelo cargado\n",
    "    prediction1 = model.predict(prediction_features)\n",
    "\n",
    "    # Imprimir la predicción\n",
    "    print(f\"Probabilidad de que gane {equipo1} en la ronda 9 es:\")\n",
    "    print(prediction1)\n",
    "\n",
    "    # Definir la información del partido para la siguiente ronda\n",
    "    round_number = 10  # Ronda correspondiente\n",
    "\n",
    "    # Intercambiar los equipos para la siguiente predicción\n",
    "    equipo1_map, equipo2_map = equipo2_map, equipo1_map\n",
    "    total_points_equipo1, total_points_equipo2 = total_points_equipo2, total_points_equipo1\n",
    "\n",
    "    # Crear una matriz de características para la predicción de la siguiente ronda\n",
    "    prediction_features = np.array([[round_number, equipo1_map, equipo2_map, total_points_equipo1, total_points_equipo2]])\n",
    "\n",
    "    # Hacer la predicción utilizando el modelo cargado\n",
    "    prediction2 = model.predict(prediction_features)\n",
    "\n",
    "    # Imprimir la predicción\n",
    "    print(f\"Probabilidad de que gane {equipo2} en la ronda 10 es:\")\n",
    "    print(prediction2)\n",
    "\n",
    "    # Calcular el porcentaje de predicción de cada equipo\n",
    "    percentage_prediction1 = prediction1[0][0]\n",
    "    percentage_prediction2 = prediction2[0][0]\n",
    "\n",
    "    # Calcular la probabilidad acumulada de cada equipo\n",
    "    cumulative_probability1 = (percentage_prediction1 + (1 - percentage_prediction2))/2\n",
    "    cumulative_probability2 = (percentage_prediction2 + (1 - percentage_prediction1))/2\n",
    "\n",
    "    # Determinar el ganador\n",
    "    if cumulative_probability1 > cumulative_probability2:\n",
    "        winner = equipo1\n",
    "    else:\n",
    "        winner = equipo2\n",
    "\n",
    "    # Retornar el ganador\n",
    "    return winner\n",
    "\n",
    "# Predecir el ganador del partido entre \"Atlético Madrid\" y \"Borussia Dortmund\"\n",
    "ganador = predecir_ganador(equipo1, equipo2, total_points_equipo1, total_points_equipo2, team_mapping)\n",
    "print(\"El ganador del partido entre\", equipo1, \"y\", equipo2, \"es:\", ganador)"
   ]
  },
  {
   "cell_type": "markdown",
   "metadata": {},
   "source": [
    "<h4>Cuartos, segundo partido: Paris Saint-Germain vs FC Barcelona"
   ]
  },
  {
   "cell_type": "code",
   "execution_count": null,
   "metadata": {},
   "outputs": [],
   "source": [
    "equipo1 = \"Paris Saint-Germain\"\n",
    "equipo2 = \"FC Barcelona\"\n",
    "\n",
    "# Encontrar el índice de la columna 'Total Points'\n",
    "indice_total_points = uefa_ranking.columns.get_loc('Total Points')\n",
    "\n",
    "# Obtener el valor de 'Total Points' correspondiente al equipo\n",
    "total_points_equipo1 = uefa_ranking.loc[uefa_ranking['Club'] == equipo1, 'Total Points'].values[0]\n",
    "total_points_equipo2 = uefa_ranking.loc[uefa_ranking['Club'] == equipo2, 'Total Points'].values[0]\n",
    "\n",
    "print(\"El número de la columna 'Total Points' correspondiente al equipo\", equipo1, \"es:\", total_points_equipo1)\n",
    "print(\"El número de la columna 'Total Points' correspondiente al equipo\", equipo2, \"es:\", total_points_equipo2)\n"
   ]
  },
  {
   "cell_type": "code",
   "execution_count": null,
   "metadata": {},
   "outputs": [],
   "source": [
    "# Predecir el ganador del partido entre \"Paris Saint-Germain\" y \"FC Barcelona\"\n",
    "ganador = predecir_ganador(equipo1, equipo2, total_points_equipo1, total_points_equipo2, team_mapping)\n",
    "print(\"El ganador del partido entre\", equipo1, \"y\", equipo2, \"es:\", ganador)"
   ]
  },
  {
   "cell_type": "markdown",
   "metadata": {},
   "source": [
    "<h4>Cuartos, tercer partido: Arsenal vs Bayern München"
   ]
  },
  {
   "cell_type": "code",
   "execution_count": null,
   "metadata": {},
   "outputs": [],
   "source": [
    "equipo1 = \"Arsenal\"\n",
    "equipo2 = \"Bayern München\"\n",
    "\n",
    "# Encontrar el índice de la columna 'Total Points'\n",
    "indice_total_points = uefa_ranking.columns.get_loc('Total Points')\n",
    "\n",
    "# Obtener el valor de 'Total Points' correspondiente al equipo\n",
    "total_points_equipo1 = uefa_ranking.loc[uefa_ranking['Club'] == equipo1, 'Total Points'].values[0]\n",
    "total_points_equipo2 = uefa_ranking.loc[uefa_ranking['Club'] == equipo2, 'Total Points'].values[0]\n",
    "\n",
    "print(\"El número de la columna 'Total Points' correspondiente al equipo\", equipo1, \"es:\", total_points_equipo1)\n",
    "print(\"El número de la columna 'Total Points' correspondiente al equipo\", equipo2, \"es:\", total_points_equipo2)\n"
   ]
  },
  {
   "cell_type": "code",
   "execution_count": null,
   "metadata": {},
   "outputs": [],
   "source": [
    "# Predecir el ganador del partido entre \"Arsenal\" y \"Bayern München\"\n",
    "ganador = predecir_ganador(equipo1, equipo2, total_points_equipo1, total_points_equipo2, team_mapping)\n",
    "print(\"El ganador del partido entre\", equipo1, \"y\", equipo2, \"es:\", ganador)"
   ]
  },
  {
   "cell_type": "markdown",
   "metadata": {},
   "source": [
    "<h4>Cuartos, cuarto partido: Real Madrid vs Manchester City"
   ]
  },
  {
   "cell_type": "code",
   "execution_count": null,
   "metadata": {},
   "outputs": [],
   "source": [
    "equipo1 = \"Real Madrid\"\n",
    "equipo2 = \"Manchester City\"\n",
    "\n",
    "# Encontrar el índice de la columna 'Total Points'\n",
    "indice_total_points = uefa_ranking.columns.get_loc('Total Points')\n",
    "\n",
    "# Obtener el valor de 'Total Points' correspondiente al equipo\n",
    "total_points_equipo1 = uefa_ranking.loc[uefa_ranking['Club'] == equipo1, 'Total Points'].values[0]\n",
    "total_points_equipo2 = uefa_ranking.loc[uefa_ranking['Club'] == equipo2, 'Total Points'].values[0]\n",
    "\n",
    "print(\"El número de la columna 'Total Points' correspondiente al equipo\", equipo1, \"es:\", total_points_equipo1)\n",
    "print(\"El número de la columna 'Total Points' correspondiente al equipo\", equipo2, \"es:\", total_points_equipo2)\n"
   ]
  },
  {
   "cell_type": "code",
   "execution_count": null,
   "metadata": {},
   "outputs": [],
   "source": [
    "# Predecir el ganador del partido entre \"Real Madrid\" y \"Manchester City\"\n",
    "ganador = predecir_ganador(equipo1, equipo2, total_points_equipo1, total_points_equipo2, team_mapping)\n",
    "print(\"El ganador del partido entre\", equipo1, \"y\", equipo2, \"es:\", ganador)"
   ]
  },
  {
   "cell_type": "markdown",
   "metadata": {},
   "source": [
    "<h3>Semis, primer partido: Atlético Madrid vs FC Barcelona (predicción inicial)"
   ]
  },
  {
   "cell_type": "code",
   "execution_count": null,
   "metadata": {},
   "outputs": [],
   "source": [
    "equipo1 = \"Atlético Madrid\"\n",
    "equipo2 = \"FC Barcelona\"\n",
    "\n",
    "# Encontrar el índice de la columna 'Total Points'\n",
    "indice_total_points = uefa_ranking.columns.get_loc('Total Points')\n",
    "\n",
    "# Obtener el valor de 'Total Points' correspondiente al equipo\n",
    "total_points_equipo1 = uefa_ranking.loc[uefa_ranking['Club'] == equipo1, 'Total Points'].values[0]\n",
    "total_points_equipo2 = uefa_ranking.loc[uefa_ranking['Club'] == equipo2, 'Total Points'].values[0]\n",
    "\n",
    "print(\"El número de la columna 'Total Points' correspondiente al equipo\", equipo1, \"es:\", total_points_equipo1)\n",
    "print(\"El número de la columna 'Total Points' correspondiente al equipo\", equipo2, \"es:\", total_points_equipo2)\n"
   ]
  },
  {
   "cell_type": "code",
   "execution_count": null,
   "metadata": {},
   "outputs": [],
   "source": [
    "# Predecir el ganador del partido entre \"Atlético Madrid\" y \"FC Barcelona\"\n",
    "ganador = predecir_ganador(equipo1, equipo2, total_points_equipo1, total_points_equipo2, team_mapping)\n",
    "print(\"El ganador del partido entre\", equipo1, \"y\", equipo2, \"es:\", ganador)"
   ]
  },
  {
   "cell_type": "markdown",
   "metadata": {},
   "source": [
    "<h3>Semis, primer partido: Borussia Dortmund vs Paris Saint-Germain"
   ]
  },
  {
   "cell_type": "code",
   "execution_count": null,
   "metadata": {},
   "outputs": [],
   "source": [
    "equipo1 = \"Borussia Dortmund\"\n",
    "equipo2 = \"Paris Saint-Germain\"\n",
    "\n",
    "# Encontrar el índice de la columna 'Total Points'\n",
    "indice_total_points = uefa_ranking.columns.get_loc('Total Points')\n",
    "\n",
    "# Obtener el valor de 'Total Points' correspondiente al equipo\n",
    "total_points_equipo1 = uefa_ranking.loc[uefa_ranking['Club'] == equipo1, 'Total Points'].values[0]\n",
    "total_points_equipo2 = uefa_ranking.loc[uefa_ranking['Club'] == equipo2, 'Total Points'].values[0]\n",
    "\n",
    "print(\"El número de la columna 'Total Points' correspondiente al equipo\", equipo1, \"es:\", total_points_equipo1)\n",
    "print(\"El número de la columna 'Total Points' correspondiente al equipo\", equipo2, \"es:\", total_points_equipo2)\n"
   ]
  },
  {
   "cell_type": "code",
   "execution_count": null,
   "metadata": {},
   "outputs": [],
   "source": [
    "# Predecir el ganador del partido entre \"Borussia Dortmund\" y \"Paris Saint-Germain\"\n",
    "ganador = predecir_ganador(equipo1, equipo2, total_points_equipo1, total_points_equipo2, team_mapping)\n",
    "print(\"El ganador del partido entre\", equipo1, \"y\", equipo2, \"es:\", ganador)"
   ]
  },
  {
   "cell_type": "markdown",
   "metadata": {},
   "source": [
    "<h3>Semis, segundo partido: Bayern München vs Real Madrid (predicción inicial)"
   ]
  },
  {
   "cell_type": "code",
   "execution_count": null,
   "metadata": {},
   "outputs": [],
   "source": [
    "equipo1 = \"Bayern München\"\n",
    "equipo2 = \"Real Madrid\"\n",
    "\n",
    "# Encontrar el índice de la columna 'Total Points'\n",
    "indice_total_points = uefa_ranking.columns.get_loc('Total Points')\n",
    "\n",
    "# Obtener el valor de 'Total Points' correspondiente al equipo\n",
    "total_points_equipo1 = uefa_ranking.loc[uefa_ranking['Club'] == equipo1, 'Total Points'].values[0]\n",
    "total_points_equipo2 = uefa_ranking.loc[uefa_ranking['Club'] == equipo2, 'Total Points'].values[0]\n",
    "\n",
    "print(\"El número de la columna 'Total Points' correspondiente al equipo\", equipo1, \"es:\", total_points_equipo1)\n",
    "print(\"El número de la columna 'Total Points' correspondiente al equipo\", equipo2, \"es:\", total_points_equipo2)"
   ]
  },
  {
   "cell_type": "code",
   "execution_count": null,
   "metadata": {},
   "outputs": [],
   "source": [
    "# Predecir el ganador del partido entre \"Bayern München\" y \"Real Madrid\"\n",
    "ganador = predecir_ganador(equipo1, equipo2, total_points_equipo1, total_points_equipo2, team_mapping)\n",
    "print(\"El ganador del partido entre\", equipo1, \"y\", equipo2, \"es:\", ganador)"
   ]
  },
  {
   "cell_type": "markdown",
   "metadata": {},
   "source": [
    "<h2>Final: FC Barcelona vs Real Madrid (predicción inicial)"
   ]
  },
  {
   "cell_type": "code",
   "execution_count": null,
   "metadata": {},
   "outputs": [],
   "source": [
    "equipo1 = \"FC Barcelona\"\n",
    "equipo2 = \"Real Madrid\"\n",
    "\n",
    "# Encontrar el índice de la columna 'Total Points'\n",
    "indice_total_points = uefa_ranking.columns.get_loc('Total Points')\n",
    "\n",
    "# Obtener el valor de 'Total Points' correspondiente al equipo\n",
    "total_points_equipo1 = uefa_ranking.loc[uefa_ranking['Club'] == equipo1, 'Total Points'].values[0]\n",
    "total_points_equipo2 = uefa_ranking.loc[uefa_ranking['Club'] == equipo2, 'Total Points'].values[0]\n",
    "\n",
    "print(\"El número de la columna 'Total Points' correspondiente al equipo\", equipo1, \"es:\", total_points_equipo1)\n",
    "print(\"El número de la columna 'Total Points' correspondiente al equipo\", equipo2, \"es:\", total_points_equipo2)"
   ]
  },
  {
   "cell_type": "code",
   "execution_count": null,
   "metadata": {},
   "outputs": [],
   "source": [
    "# Predecir el ganador del partido entre \"FC Barcelona\" y \"Real Madrid\"\n",
    "ganador = predecir_ganador(equipo1, equipo2, total_points_equipo1, total_points_equipo2, team_mapping)\n",
    "print(\"El ganador del partido entre\", equipo1, \"y\", equipo2, \"es:\", ganador)"
   ]
  },
  {
   "cell_type": "markdown",
   "metadata": {},
   "source": [
    "<h1>Por lo tanto, el ganador de la Champions es: REAL MADRID!"
   ]
  },
  {
   "cell_type": "markdown",
   "metadata": {},
   "source": [
    "<h2>Final: PSG vs Real Madrid (2ª predicción inicial)"
   ]
  },
  {
   "cell_type": "code",
   "execution_count": null,
   "metadata": {},
   "outputs": [],
   "source": [
    "equipo1 = \"Paris Saint-Germain\"\n",
    "equipo2 = \"Real Madrid\"\n",
    "\n",
    "# Encontrar el índice de la columna 'Total Points'\n",
    "indice_total_points = uefa_ranking.columns.get_loc('Total Points')\n",
    "\n",
    "# Obtener el valor de 'Total Points' correspondiente al equipo\n",
    "total_points_equipo1 = uefa_ranking.loc[uefa_ranking['Club'] == equipo1, 'Total Points'].values[0]\n",
    "total_points_equipo2 = uefa_ranking.loc[uefa_ranking['Club'] == equipo2, 'Total Points'].values[0]\n",
    "\n",
    "print(\"El número de la columna 'Total Points' correspondiente al equipo\", equipo1, \"es:\", total_points_equipo1)\n",
    "print(\"El número de la columna 'Total Points' correspondiente al equipo\", equipo2, \"es:\", total_points_equipo2)\n"
   ]
  },
  {
   "cell_type": "code",
   "execution_count": null,
   "metadata": {},
   "outputs": [],
   "source": [
    "# Predecir el ganador del partido entre \"Paris Saint-Germain\" y \"Real Madrid\"\n",
    "ganador = predecir_ganador(equipo1, equipo2, total_points_equipo1, total_points_equipo2, team_mapping)\n",
    "print(\"El ganador del partido entre\", equipo1, \"y\", equipo2, \"es:\", ganador)"
   ]
  },
  {
   "cell_type": "markdown",
   "metadata": {},
   "source": [
    "<h1>Por lo tanto, el ganador de la Champions es: REAL MADRID!"
   ]
  }
 ],
 "metadata": {
  "kernelspec": {
   "display_name": "venv",
   "language": "python",
   "name": "python3"
  },
  "language_info": {
   "codemirror_mode": {
    "name": "ipython",
    "version": 3
   },
   "file_extension": ".py",
   "mimetype": "text/x-python",
   "name": "python",
   "nbconvert_exporter": "python",
   "pygments_lexer": "ipython3",
   "version": "3.10.0"
  }
 },
 "nbformat": 4,
 "nbformat_minor": 2
}
