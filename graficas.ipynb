{
 "cells": [
  {
   "cell_type": "markdown",
   "metadata": {},
   "source": [
    "Primero cargamos las librerias necesarias"
   ]
  },
  {
   "cell_type": "code",
   "execution_count": null,
   "metadata": {},
   "outputs": [],
   "source": [
    "#cargar csv\n",
    "import pandas as pd\n",
    "import numpy as np\n",
    "import matplotlib.pyplot as plt\n",
    "import seaborn as sns"
   ]
  },
  {
   "cell_type": "markdown",
   "metadata": {},
   "source": [
    "Cargamos los archivos"
   ]
  },
  {
   "cell_type": "code",
   "execution_count": null,
   "metadata": {},
   "outputs": [],
   "source": [
    "#cargar csv\n",
    "df2017 = pd.read_csv('data/champions-league-2017-CentralEuropeanStandardTime.csv')\n",
    "df2018 = pd.read_csv('data/champions-league-2018-WEuropeStandardTime.csv')\n",
    "df2019 = pd.read_csv('data/champions-league-2019-WEuropeStandardTime.csv')\n",
    "df2020 = pd.read_csv('data/champions-league-2020-UTC.csv')\n",
    "df2021 = pd.read_csv('data/champions-league-2021-UTC.csv')\n",
    "df2022 = pd.read_csv('data/champions-league-2022-UTC.csv')\n",
    "wins = pd.read_csv('data/wins.csv')\n",
    "uefa_ranking = pd.read_csv('data/UEFA_Ranking.csv')\n",
    "equipos_goles = pd.read_csv('data/equipos-goles.csv')"
   ]
  }
 ],
 "metadata": {
  "kernelspec": {
   "display_name": "entorno",
   "language": "python",
   "name": "python3"
  },
  "language_info": {
   "name": "python",
   "version": "3.10.0"
  }
 },
 "nbformat": 4,
 "nbformat_minor": 2
}
