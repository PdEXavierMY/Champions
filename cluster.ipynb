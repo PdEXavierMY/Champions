{
 "cells": [
  {
   "cell_type": "markdown",
   "metadata": {},
   "source": [
    "En este archivo vamos a clasificar de forma profunda,clasterizar los datos y realizar una serie temporal:"
   ]
  },
  {
   "cell_type": "markdown",
   "metadata": {},
   "source": [
    "Primero vamos a importar las librerías necesarias"
   ]
  },
  {
   "cell_type": "code",
   "execution_count": null,
   "metadata": {},
   "outputs": [],
   "source": [
    "import pandas as pd\n",
    "import seaborn as sns\n",
    "import numpy as np\n",
    "import matplotlib.pyplot as plt\n",
    "from sklearn.preprocessing import StandardScaler\n",
    "from sklearn.cluster import KMeans, MeanShift, MiniBatchKMeans, DBSCAN, AgglomerativeClustering\n",
    "from sklearn.mixture import GaussianMixture"
   ]
  },
  {
   "cell_type": "markdown",
   "metadata": {},
   "source": [
    "Ahora cargamos los datos:"
   ]
  },
  {
   "cell_type": "code",
   "execution_count": null,
   "metadata": {},
   "outputs": [],
   "source": [
    "df_2017 = pd.read_csv('champions-league-2017.csv')\n",
    "df_2018 = pd.read_csv('champions-league-2018.csv')\n",
    "df_2019 = pd.read_csv('champions-league-2019.csv')\n",
    "df_2020 = pd.read_csv('champions-league-2020.csv')\n",
    "df_2021 = pd.read_csv('champions-league-2021.csv')\n",
    "df_2022 = pd.read_csv('champions-league-2022.csv')\n",
    "\n",
    "df_equipos_goles = pd.read_csv('equipos-goles.csv')\n",
    "df_uefa_ranking = pd.read_csv('UEFA-ranking.csv')\n",
    "df_victorias = pd.read_csv('victorias.csv')\n",
    "df_champions = pd.read_csv('champions_wins.csv')"
   ]
  }
 ],
 "metadata": {
  "kernelspec": {
   "display_name": "entorno",
   "language": "python",
   "name": "python3"
  },
  "language_info": {
   "name": "python",
   "version": "3.10.0"
  }
 },
 "nbformat": 4,
 "nbformat_minor": 2
}
