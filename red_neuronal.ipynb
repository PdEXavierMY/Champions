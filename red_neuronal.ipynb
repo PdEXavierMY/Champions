{
 "cells": [
  {
   "cell_type": "markdown",
   "metadata": {},
   "source": [
    "En este archivo vamos a entrenar una red neuronal para predecir el resultado de los partidos de la Champions bsándonos en datos de los último 7 años."
   ]
  },
  {
   "cell_type": "markdown",
   "metadata": {},
   "source": [
    "Para empezar primero cargamos las librerias necesarias."
   ]
  },
  {
   "cell_type": "code",
   "execution_count": 38,
   "metadata": {},
   "outputs": [],
   "source": [
    "import pandas as pd\n",
    "import numpy as np\n",
    "from sklearn.model_selection import train_test_split\n",
    "from sklearn.preprocessing import StandardScaler\n",
    "from sklearn.preprocessing import LabelEncoder\n",
    "from keras.models import Sequential\n",
    "from keras.layers import Dense, LSTM\n",
    "from keras.utils import to_categorical\n",
    "from keras.layers import Dropout"
   ]
  },
  {
   "cell_type": "markdown",
   "metadata": {},
   "source": [
    "Ahora vamos a empezar el entrenamiento para predecir resultados, pero antes de ello vamos a transformar las columnas string de equipos en numéricas para poder evaluarlas y analizarlas durante el procesamiento de la red neuronal."
   ]
  },
  {
   "cell_type": "code",
   "execution_count": 39,
   "metadata": {},
   "outputs": [],
   "source": [
    "# Cargar los datos del ranking UEFA\n",
    "uefa_ranking = pd.read_csv(\"data/UEFA_Ranking.csv\")\n",
    "\n",
    "# Crear un diccionario para mapear nombres de equipos a números\n",
    "team_mapping = {team: rank for rank, team in zip(uefa_ranking['Position'], uefa_ranking['Club'])}\n",
    "\n",
    "# Cargar los datos de los partidos de la Champions League 2017\n",
    "champions_data = pd.read_csv(\"data/champions-league-2017.csv\")\n",
    "\n",
    "# Reemplazar nombres de equipos por números en las columnas correspondientes\n",
    "champions_data['Home Team'] = champions_data['Home Team'].map(team_mapping)\n",
    "champions_data['Away Team'] = champions_data['Away Team'].map(team_mapping)\n",
    "champions_data['Winner'] = champions_data['Winner'].map(team_mapping)"
   ]
  },
  {
   "cell_type": "markdown",
   "metadata": {},
   "source": [
    "Vamos a comprobar que todos los datos están bien."
   ]
  },
  {
   "cell_type": "code",
   "execution_count": 40,
   "metadata": {},
   "outputs": [
    {
     "name": "stdout",
     "output_type": "stream",
     "text": [
      "   Match Number Round Number  Home Team  Away Team Result  Winner  \\\n",
      "0             1            1         20         61  1 - 2      61   \n",
      "1             2            1         11         26  3 - 0      11   \n",
      "2            13            1          2         52  3 - 0       2   \n",
      "3            14            1         50          8  0 - 5       8   \n",
      "4            25            1          9         66  6 - 0       9   \n",
      "\n",
      "   Home Team Goals  Away Team Goals  Match Goals  \n",
      "0                1                2            3  \n",
      "1                3                0            3  \n",
      "2                3                0            3  \n",
      "3                0                5            5  \n",
      "4                6                0            6  \n"
     ]
    }
   ],
   "source": [
    "# Ver las primeras filas de los datos\n",
    "print(champions_data.head())"
   ]
  },
  {
   "cell_type": "code",
   "execution_count": 41,
   "metadata": {},
   "outputs": [
    {
     "name": "stdout",
     "output_type": "stream",
     "text": [
      "       Match Number   Home Team   Away Team     Winner  Home Team Goals  \\\n",
      "count    125.000000  125.000000  125.000000  125.00000       125.000000   \n",
      "mean      63.000000   25.288000   25.320000   17.24800         1.784000   \n",
      "std       36.228442   28.268247   28.242784   22.06722         1.532361   \n",
      "min        1.000000    1.000000    1.000000    1.00000         0.000000   \n",
      "25%       32.000000    6.000000    6.000000    4.00000         1.000000   \n",
      "50%       63.000000   14.000000   14.000000   10.00000         1.000000   \n",
      "75%       94.000000   36.000000   36.000000   23.00000         3.000000   \n",
      "max      125.000000  119.000000  119.000000  119.00000         7.000000   \n",
      "\n",
      "       Away Team Goals  Match Goals  \n",
      "count       125.000000   125.000000  \n",
      "mean          1.424000     3.208000  \n",
      "std           1.398525     1.622901  \n",
      "min           0.000000     0.000000  \n",
      "25%           0.000000     2.000000  \n",
      "50%           1.000000     3.000000  \n",
      "75%           2.000000     4.000000  \n",
      "max           7.000000     8.000000  \n"
     ]
    }
   ],
   "source": [
    "# analizar los datos\n",
    "print(champions_data.describe())"
   ]
  },
  {
   "cell_type": "code",
   "execution_count": 42,
   "metadata": {},
   "outputs": [
    {
     "name": "stdout",
     "output_type": "stream",
     "text": [
      "Match Number       0\n",
      "Round Number       0\n",
      "Home Team          0\n",
      "Away Team          0\n",
      "Result             0\n",
      "Winner             0\n",
      "Home Team Goals    0\n",
      "Away Team Goals    0\n",
      "Match Goals        0\n",
      "dtype: int64\n"
     ]
    }
   ],
   "source": [
    "# ver los datos nulos\n",
    "print(champions_data.isnull().sum())"
   ]
  },
  {
   "cell_type": "markdown",
   "metadata": {},
   "source": [
    "Como podemos ver está todo bien. Para más información con respecto al CSV que estamos tratando dirigirse a graficas.ipynb"
   ]
  },
  {
   "cell_type": "markdown",
   "metadata": {},
   "source": [
    "Ahora vamos a comenzar el proceso de entrenamiento de la red neuronal"
   ]
  },
  {
   "cell_type": "code",
   "execution_count": 43,
   "metadata": {},
   "outputs": [
    {
     "name": "stdout",
     "output_type": "stream",
     "text": [
      "Epoch 1/70\n"
     ]
    },
    {
     "name": "stderr",
     "output_type": "stream",
     "text": [
      "c:\\Users\\javie\\OneDrive\\Documents\\GitHub\\Champions\\venv\\lib\\site-packages\\keras\\src\\layers\\core\\dense.py:85: UserWarning: Do not pass an `input_shape`/`input_dim` argument to a layer. When using Sequential models, prefer using an `Input(shape)` object as the first layer in the model instead.\n",
      "  super().__init__(activity_regularizer=activity_regularizer, **kwargs)\n"
     ]
    },
    {
     "name": "stdout",
     "output_type": "stream",
     "text": [
      "\u001b[1m3/3\u001b[0m \u001b[32m━━━━━━━━━━━━━━━━━━━━\u001b[0m\u001b[37m\u001b[0m \u001b[1m2s\u001b[0m 154ms/step - accuracy: 0.0149 - loss: 3.3864 - val_accuracy: 0.2000 - val_loss: 3.3482\n",
      "Epoch 2/70\n",
      "\u001b[1m3/3\u001b[0m \u001b[32m━━━━━━━━━━━━━━━━━━━━\u001b[0m\u001b[37m\u001b[0m \u001b[1m0s\u001b[0m 27ms/step - accuracy: 0.0535 - loss: 3.3635 - val_accuracy: 0.2000 - val_loss: 3.3500\n",
      "Epoch 3/70\n",
      "\u001b[1m3/3\u001b[0m \u001b[32m━━━━━━━━━━━━━━━━━━━━\u001b[0m\u001b[37m\u001b[0m \u001b[1m0s\u001b[0m 38ms/step - accuracy: 0.0323 - loss: 3.3698 - val_accuracy: 0.0000e+00 - val_loss: 3.3526\n",
      "Epoch 4/70\n",
      "\u001b[1m3/3\u001b[0m \u001b[32m━━━━━━━━━━━━━━━━━━━━\u001b[0m\u001b[37m\u001b[0m \u001b[1m0s\u001b[0m 32ms/step - accuracy: 0.0708 - loss: 3.3647 - val_accuracy: 0.0000e+00 - val_loss: 3.3532\n",
      "Epoch 5/70\n",
      "\u001b[1m3/3\u001b[0m \u001b[32m━━━━━━━━━━━━━━━━━━━━\u001b[0m\u001b[37m\u001b[0m \u001b[1m0s\u001b[0m 38ms/step - accuracy: 0.0472 - loss: 3.3615 - val_accuracy: 0.0000e+00 - val_loss: 3.3532\n",
      "Epoch 6/70\n",
      "\u001b[1m3/3\u001b[0m \u001b[32m━━━━━━━━━━━━━━━━━━━━\u001b[0m\u001b[37m\u001b[0m \u001b[1m0s\u001b[0m 31ms/step - accuracy: 0.1069 - loss: 3.3569 - val_accuracy: 0.0000e+00 - val_loss: 3.3514\n",
      "Epoch 7/70\n",
      "\u001b[1m3/3\u001b[0m \u001b[32m━━━━━━━━━━━━━━━━━━━━\u001b[0m\u001b[37m\u001b[0m \u001b[1m0s\u001b[0m 36ms/step - accuracy: 0.0448 - loss: 3.3418 - val_accuracy: 0.0000e+00 - val_loss: 3.3482\n",
      "Epoch 8/70\n",
      "\u001b[1m3/3\u001b[0m \u001b[32m━━━━━━━━━━━━━━━━━━━━\u001b[0m\u001b[37m\u001b[0m \u001b[1m0s\u001b[0m 37ms/step - accuracy: 0.0882 - loss: 3.3376 - val_accuracy: 0.0000e+00 - val_loss: 3.3461\n",
      "Epoch 9/70\n",
      "\u001b[1m3/3\u001b[0m \u001b[32m━━━━━━━━━━━━━━━━━━━━\u001b[0m\u001b[37m\u001b[0m \u001b[1m0s\u001b[0m 32ms/step - accuracy: 0.1000 - loss: 3.3395 - val_accuracy: 0.0000e+00 - val_loss: 3.3436\n",
      "Epoch 10/70\n",
      "\u001b[1m3/3\u001b[0m \u001b[32m━━━━━━━━━━━━━━━━━━━━\u001b[0m\u001b[37m\u001b[0m \u001b[1m0s\u001b[0m 35ms/step - accuracy: 0.0733 - loss: 3.3368 - val_accuracy: 0.0000e+00 - val_loss: 3.3410\n",
      "Epoch 11/70\n",
      "\u001b[1m3/3\u001b[0m \u001b[32m━━━━━━━━━━━━━━━━━━━━\u001b[0m\u001b[37m\u001b[0m \u001b[1m0s\u001b[0m 29ms/step - accuracy: 0.0615 - loss: 3.3409 - val_accuracy: 0.0000e+00 - val_loss: 3.3384\n",
      "Epoch 12/70\n",
      "\u001b[1m3/3\u001b[0m \u001b[32m━━━━━━━━━━━━━━━━━━━━\u001b[0m\u001b[37m\u001b[0m \u001b[1m0s\u001b[0m 35ms/step - accuracy: 0.0639 - loss: 3.3355 - val_accuracy: 0.0000e+00 - val_loss: 3.3357\n",
      "Epoch 13/70\n",
      "\u001b[1m3/3\u001b[0m \u001b[32m━━━━━━━━━━━━━━━━━━━━\u001b[0m\u001b[37m\u001b[0m \u001b[1m0s\u001b[0m 32ms/step - accuracy: 0.1316 - loss: 3.3160 - val_accuracy: 0.0000e+00 - val_loss: 3.3336\n",
      "Epoch 14/70\n",
      "\u001b[1m3/3\u001b[0m \u001b[32m━━━━━━━━━━━━━━━━━━━━\u001b[0m\u001b[37m\u001b[0m \u001b[1m0s\u001b[0m 35ms/step - accuracy: 0.0764 - loss: 3.3171 - val_accuracy: 0.0000e+00 - val_loss: 3.3309\n",
      "Epoch 15/70\n",
      "\u001b[1m3/3\u001b[0m \u001b[32m━━━━━━━━━━━━━━━━━━━━\u001b[0m\u001b[37m\u001b[0m \u001b[1m0s\u001b[0m 32ms/step - accuracy: 0.0677 - loss: 3.3382 - val_accuracy: 0.0000e+00 - val_loss: 3.3278\n",
      "Epoch 16/70\n",
      "\u001b[1m3/3\u001b[0m \u001b[32m━━━━━━━━━━━━━━━━━━━━\u001b[0m\u001b[37m\u001b[0m \u001b[1m0s\u001b[0m 38ms/step - accuracy: 0.1024 - loss: 3.3310 - val_accuracy: 0.0000e+00 - val_loss: 3.3275\n",
      "Epoch 17/70\n",
      "\u001b[1m3/3\u001b[0m \u001b[32m━━━━━━━━━━━━━━━━━━━━\u001b[0m\u001b[37m\u001b[0m \u001b[1m0s\u001b[0m 129ms/step - accuracy: 0.0920 - loss: 3.2998 - val_accuracy: 0.0000e+00 - val_loss: 3.3273\n",
      "Epoch 18/70\n",
      "\u001b[1m3/3\u001b[0m \u001b[32m━━━━━━━━━━━━━━━━━━━━\u001b[0m\u001b[37m\u001b[0m \u001b[1m0s\u001b[0m 74ms/step - accuracy: 0.0906 - loss: 3.2911 - val_accuracy: 0.0000e+00 - val_loss: 3.3268\n",
      "Epoch 19/70\n",
      "\u001b[1m3/3\u001b[0m \u001b[32m━━━━━━━━━━━━━━━━━━━━\u001b[0m\u001b[37m\u001b[0m \u001b[1m0s\u001b[0m 69ms/step - accuracy: 0.1056 - loss: 3.2882 - val_accuracy: 0.0000e+00 - val_loss: 3.3264\n",
      "Epoch 20/70\n",
      "\u001b[1m3/3\u001b[0m \u001b[32m━━━━━━━━━━━━━━━━━━━━\u001b[0m\u001b[37m\u001b[0m \u001b[1m0s\u001b[0m 63ms/step - accuracy: 0.0726 - loss: 3.2862 - val_accuracy: 0.0000e+00 - val_loss: 3.3261\n",
      "Epoch 21/70\n",
      "\u001b[1m3/3\u001b[0m \u001b[32m━━━━━━━━━━━━━━━━━━━━\u001b[0m\u001b[37m\u001b[0m \u001b[1m0s\u001b[0m 74ms/step - accuracy: 0.0410 - loss: 3.2920 - val_accuracy: 0.0000e+00 - val_loss: 3.3247\n",
      "Epoch 22/70\n",
      "\u001b[1m3/3\u001b[0m \u001b[32m━━━━━━━━━━━━━━━━━━━━\u001b[0m\u001b[37m\u001b[0m \u001b[1m0s\u001b[0m 56ms/step - accuracy: 0.1056 - loss: 3.2578 - val_accuracy: 0.0000e+00 - val_loss: 3.3228\n",
      "Epoch 23/70\n",
      "\u001b[1m3/3\u001b[0m \u001b[32m━━━━━━━━━━━━━━━━━━━━\u001b[0m\u001b[37m\u001b[0m \u001b[1m0s\u001b[0m 49ms/step - accuracy: 0.0701 - loss: 3.2789 - val_accuracy: 0.0000e+00 - val_loss: 3.3205\n",
      "Epoch 24/70\n",
      "\u001b[1m3/3\u001b[0m \u001b[32m━━━━━━━━━━━━━━━━━━━━\u001b[0m\u001b[37m\u001b[0m \u001b[1m0s\u001b[0m 50ms/step - accuracy: 0.0993 - loss: 3.2577 - val_accuracy: 0.0000e+00 - val_loss: 3.3176\n",
      "Epoch 25/70\n",
      "\u001b[1m3/3\u001b[0m \u001b[32m━━━━━━━━━━━━━━━━━━━━\u001b[0m\u001b[37m\u001b[0m \u001b[1m0s\u001b[0m 52ms/step - accuracy: 0.1361 - loss: 3.2244 - val_accuracy: 0.0000e+00 - val_loss: 3.3125\n",
      "Epoch 26/70\n",
      "\u001b[1m3/3\u001b[0m \u001b[32m━━━━━━━━━━━━━━━━━━━━\u001b[0m\u001b[37m\u001b[0m \u001b[1m0s\u001b[0m 49ms/step - accuracy: 0.0955 - loss: 3.2204 - val_accuracy: 0.0000e+00 - val_loss: 3.3073\n",
      "Epoch 27/70\n",
      "\u001b[1m3/3\u001b[0m \u001b[32m━━━━━━━━━━━━━━━━━━━━\u001b[0m\u001b[37m\u001b[0m \u001b[1m0s\u001b[0m 46ms/step - accuracy: 0.1149 - loss: 3.2172 - val_accuracy: 0.0000e+00 - val_loss: 3.3036\n",
      "Epoch 28/70\n",
      "\u001b[1m3/3\u001b[0m \u001b[32m━━━━━━━━━━━━━━━━━━━━\u001b[0m\u001b[37m\u001b[0m \u001b[1m0s\u001b[0m 43ms/step - accuracy: 0.0726 - loss: 3.2208 - val_accuracy: 0.0000e+00 - val_loss: 3.3017\n",
      "Epoch 29/70\n",
      "\u001b[1m3/3\u001b[0m \u001b[32m━━━━━━━━━━━━━━━━━━━━\u001b[0m\u001b[37m\u001b[0m \u001b[1m0s\u001b[0m 51ms/step - accuracy: 0.0913 - loss: 3.2134 - val_accuracy: 0.0000e+00 - val_loss: 3.2981\n",
      "Epoch 30/70\n",
      "\u001b[1m3/3\u001b[0m \u001b[32m━━━━━━━━━━━━━━━━━━━━\u001b[0m\u001b[37m\u001b[0m \u001b[1m0s\u001b[0m 57ms/step - accuracy: 0.1323 - loss: 3.1623 - val_accuracy: 0.0000e+00 - val_loss: 3.2915\n",
      "Epoch 31/70\n",
      "\u001b[1m3/3\u001b[0m \u001b[32m━━━━━━━━━━━━━━━━━━━━\u001b[0m\u001b[37m\u001b[0m \u001b[1m0s\u001b[0m 105ms/step - accuracy: 0.1441 - loss: 3.1782 - val_accuracy: 0.0000e+00 - val_loss: 3.2861\n",
      "Epoch 32/70\n",
      "\u001b[1m3/3\u001b[0m \u001b[32m━━━━━━━━━━━━━━━━━━━━\u001b[0m\u001b[37m\u001b[0m \u001b[1m0s\u001b[0m 46ms/step - accuracy: 0.1031 - loss: 3.2069 - val_accuracy: 0.0000e+00 - val_loss: 3.2840\n",
      "Epoch 33/70\n",
      "\u001b[1m3/3\u001b[0m \u001b[32m━━━━━━━━━━━━━━━━━━━━\u001b[0m\u001b[37m\u001b[0m \u001b[1m0s\u001b[0m 56ms/step - accuracy: 0.0615 - loss: 3.1703 - val_accuracy: 0.0000e+00 - val_loss: 3.2821\n",
      "Epoch 34/70\n",
      "\u001b[1m3/3\u001b[0m \u001b[32m━━━━━━━━━━━━━━━━━━━━\u001b[0m\u001b[37m\u001b[0m \u001b[1m0s\u001b[0m 53ms/step - accuracy: 0.0913 - loss: 3.1852 - val_accuracy: 0.0000e+00 - val_loss: 3.2815\n",
      "Epoch 35/70\n",
      "\u001b[1m3/3\u001b[0m \u001b[32m━━━━━━━━━━━━━━━━━━━━\u001b[0m\u001b[37m\u001b[0m \u001b[1m0s\u001b[0m 50ms/step - accuracy: 0.1056 - loss: 3.1099 - val_accuracy: 0.0000e+00 - val_loss: 3.2815\n",
      "Epoch 36/70\n",
      "\u001b[1m3/3\u001b[0m \u001b[32m━━━━━━━━━━━━━━━━━━━━\u001b[0m\u001b[37m\u001b[0m \u001b[1m0s\u001b[0m 44ms/step - accuracy: 0.0889 - loss: 3.1046 - val_accuracy: 0.0000e+00 - val_loss: 3.2835\n",
      "Epoch 37/70\n",
      "\u001b[1m3/3\u001b[0m \u001b[32m━━━━━━━━━━━━━━━━━━━━\u001b[0m\u001b[37m\u001b[0m \u001b[1m0s\u001b[0m 43ms/step - accuracy: 0.0868 - loss: 3.1521 - val_accuracy: 0.0000e+00 - val_loss: 3.2862\n",
      "Epoch 38/70\n",
      "\u001b[1m3/3\u001b[0m \u001b[32m━━━━━━━━━━━━━━━━━━━━\u001b[0m\u001b[37m\u001b[0m \u001b[1m0s\u001b[0m 75ms/step - accuracy: 0.0882 - loss: 3.1468 - val_accuracy: 0.0000e+00 - val_loss: 3.2894\n",
      "Epoch 39/70\n",
      "\u001b[1m3/3\u001b[0m \u001b[32m━━━━━━━━━━━━━━━━━━━━\u001b[0m\u001b[37m\u001b[0m \u001b[1m0s\u001b[0m 49ms/step - accuracy: 0.0858 - loss: 3.1330 - val_accuracy: 0.0000e+00 - val_loss: 3.2891\n",
      "Epoch 40/70\n",
      "\u001b[1m3/3\u001b[0m \u001b[32m━━━━━━━━━━━━━━━━━━━━\u001b[0m\u001b[37m\u001b[0m \u001b[1m0s\u001b[0m 48ms/step - accuracy: 0.1181 - loss: 3.1586 - val_accuracy: 0.0000e+00 - val_loss: 3.2839\n",
      "Epoch 41/70\n",
      "\u001b[1m3/3\u001b[0m \u001b[32m━━━━━━━━━━━━━━━━━━━━\u001b[0m\u001b[37m\u001b[0m \u001b[1m0s\u001b[0m 42ms/step - accuracy: 0.0882 - loss: 3.0965 - val_accuracy: 0.0000e+00 - val_loss: 3.2789\n",
      "Epoch 42/70\n",
      "\u001b[1m3/3\u001b[0m \u001b[32m━━━━━━━━━━━━━━━━━━━━\u001b[0m\u001b[37m\u001b[0m \u001b[1m0s\u001b[0m 43ms/step - accuracy: 0.0976 - loss: 3.1293 - val_accuracy: 0.0000e+00 - val_loss: 3.2739\n",
      "Epoch 43/70\n",
      "\u001b[1m3/3\u001b[0m \u001b[32m━━━━━━━━━━━━━━━━━━━━\u001b[0m\u001b[37m\u001b[0m \u001b[1m0s\u001b[0m 48ms/step - accuracy: 0.1684 - loss: 3.0934 - val_accuracy: 0.0000e+00 - val_loss: 3.2703\n",
      "Epoch 44/70\n",
      "\u001b[1m3/3\u001b[0m \u001b[32m━━━━━━━━━━━━━━━━━━━━\u001b[0m\u001b[37m\u001b[0m \u001b[1m0s\u001b[0m 36ms/step - accuracy: 0.1410 - loss: 3.1046 - val_accuracy: 0.0000e+00 - val_loss: 3.2652\n",
      "Epoch 45/70\n",
      "\u001b[1m3/3\u001b[0m \u001b[32m━━━━━━━━━━━━━━━━━━━━\u001b[0m\u001b[37m\u001b[0m \u001b[1m0s\u001b[0m 33ms/step - accuracy: 0.1260 - loss: 3.0258 - val_accuracy: 0.0000e+00 - val_loss: 3.2572\n",
      "Epoch 46/70\n",
      "\u001b[1m3/3\u001b[0m \u001b[32m━━━━━━━━━━━━━━━━━━━━\u001b[0m\u001b[37m\u001b[0m \u001b[1m0s\u001b[0m 41ms/step - accuracy: 0.1156 - loss: 3.1169 - val_accuracy: 0.0000e+00 - val_loss: 3.2505\n",
      "Epoch 47/70\n",
      "\u001b[1m3/3\u001b[0m \u001b[32m━━━━━━━━━━━━━━━━━━━━\u001b[0m\u001b[37m\u001b[0m \u001b[1m0s\u001b[0m 40ms/step - accuracy: 0.0844 - loss: 3.0733 - val_accuracy: 0.0000e+00 - val_loss: 3.2444\n",
      "Epoch 48/70\n",
      "\u001b[1m3/3\u001b[0m \u001b[32m━━━━━━━━━━━━━━━━━━━━\u001b[0m\u001b[37m\u001b[0m \u001b[1m0s\u001b[0m 37ms/step - accuracy: 0.1622 - loss: 2.9619 - val_accuracy: 0.0000e+00 - val_loss: 3.2400\n",
      "Epoch 49/70\n",
      "\u001b[1m3/3\u001b[0m \u001b[32m━━━━━━━━━━━━━━━━━━━━\u001b[0m\u001b[37m\u001b[0m \u001b[1m0s\u001b[0m 38ms/step - accuracy: 0.1691 - loss: 3.0363 - val_accuracy: 0.0000e+00 - val_loss: 3.2369\n",
      "Epoch 50/70\n",
      "\u001b[1m3/3\u001b[0m \u001b[32m━━━━━━━━━━━━━━━━━━━━\u001b[0m\u001b[37m\u001b[0m \u001b[1m0s\u001b[0m 36ms/step - accuracy: 0.1715 - loss: 3.0279 - val_accuracy: 0.0000e+00 - val_loss: 3.2342\n",
      "Epoch 51/70\n",
      "\u001b[1m3/3\u001b[0m \u001b[32m━━━━━━━━━━━━━━━━━━━━\u001b[0m\u001b[37m\u001b[0m \u001b[1m0s\u001b[0m 37ms/step - accuracy: 0.0677 - loss: 2.9680 - val_accuracy: 0.0000e+00 - val_loss: 3.2324\n",
      "Epoch 52/70\n",
      "\u001b[1m3/3\u001b[0m \u001b[32m━━━━━━━━━━━━━━━━━━━━\u001b[0m\u001b[37m\u001b[0m \u001b[1m0s\u001b[0m 34ms/step - accuracy: 0.1056 - loss: 3.0079 - val_accuracy: 0.0000e+00 - val_loss: 3.2278\n",
      "Epoch 53/70\n",
      "\u001b[1m3/3\u001b[0m \u001b[32m━━━━━━━━━━━━━━━━━━━━\u001b[0m\u001b[37m\u001b[0m \u001b[1m0s\u001b[0m 36ms/step - accuracy: 0.1024 - loss: 2.9731 - val_accuracy: 0.0000e+00 - val_loss: 3.2217\n",
      "Epoch 54/70\n",
      "\u001b[1m3/3\u001b[0m \u001b[32m━━━━━━━━━━━━━━━━━━━━\u001b[0m\u001b[37m\u001b[0m \u001b[1m0s\u001b[0m 34ms/step - accuracy: 0.0962 - loss: 3.0329 - val_accuracy: 0.0000e+00 - val_loss: 3.2165\n",
      "Epoch 55/70\n",
      "\u001b[1m3/3\u001b[0m \u001b[32m━━━━━━━━━━━━━━━━━━━━\u001b[0m\u001b[37m\u001b[0m \u001b[1m0s\u001b[0m 36ms/step - accuracy: 0.1448 - loss: 2.9780 - val_accuracy: 0.0000e+00 - val_loss: 3.2179\n",
      "Epoch 56/70\n",
      "\u001b[1m3/3\u001b[0m \u001b[32m━━━━━━━━━━━━━━━━━━━━\u001b[0m\u001b[37m\u001b[0m \u001b[1m0s\u001b[0m 33ms/step - accuracy: 0.1378 - loss: 2.9435 - val_accuracy: 0.0000e+00 - val_loss: 3.2154\n",
      "Epoch 57/70\n",
      "\u001b[1m3/3\u001b[0m \u001b[32m━━━━━━━━━━━━━━━━━━━━\u001b[0m\u001b[37m\u001b[0m \u001b[1m0s\u001b[0m 39ms/step - accuracy: 0.1309 - loss: 2.9575 - val_accuracy: 0.0000e+00 - val_loss: 3.2107\n",
      "Epoch 58/70\n",
      "\u001b[1m3/3\u001b[0m \u001b[32m━━━━━━━━━━━━━━━━━━━━\u001b[0m\u001b[37m\u001b[0m \u001b[1m0s\u001b[0m 34ms/step - accuracy: 0.1622 - loss: 2.9470 - val_accuracy: 0.0000e+00 - val_loss: 3.2045\n",
      "Epoch 59/70\n",
      "\u001b[1m3/3\u001b[0m \u001b[32m━━━━━━━━━━━━━━━━━━━━\u001b[0m\u001b[37m\u001b[0m \u001b[1m0s\u001b[0m 46ms/step - accuracy: 0.1608 - loss: 2.9146 - val_accuracy: 0.0000e+00 - val_loss: 3.1970\n",
      "Epoch 60/70\n",
      "\u001b[1m3/3\u001b[0m \u001b[32m━━━━━━━━━━━━━━━━━━━━\u001b[0m\u001b[37m\u001b[0m \u001b[1m0s\u001b[0m 88ms/step - accuracy: 0.1552 - loss: 2.9232 - val_accuracy: 0.0000e+00 - val_loss: 3.1928\n",
      "Epoch 61/70\n",
      "\u001b[1m3/3\u001b[0m \u001b[32m━━━━━━━━━━━━━━━━━━━━\u001b[0m\u001b[37m\u001b[0m \u001b[1m0s\u001b[0m 63ms/step - accuracy: 0.1913 - loss: 2.9561 - val_accuracy: 0.0000e+00 - val_loss: 3.1952\n",
      "Epoch 62/70\n",
      "\u001b[1m3/3\u001b[0m \u001b[32m━━━━━━━━━━━━━━━━━━━━\u001b[0m\u001b[37m\u001b[0m \u001b[1m0s\u001b[0m 35ms/step - accuracy: 0.1354 - loss: 2.9548 - val_accuracy: 0.0000e+00 - val_loss: 3.1945\n",
      "Epoch 63/70\n",
      "\u001b[1m3/3\u001b[0m \u001b[32m━━━━━━━━━━━━━━━━━━━━\u001b[0m\u001b[37m\u001b[0m \u001b[1m0s\u001b[0m 40ms/step - accuracy: 0.1299 - loss: 2.9915 - val_accuracy: 0.0000e+00 - val_loss: 3.1885\n",
      "Epoch 64/70\n",
      "\u001b[1m3/3\u001b[0m \u001b[32m━━━━━━━━━━━━━━━━━━━━\u001b[0m\u001b[37m\u001b[0m \u001b[1m0s\u001b[0m 51ms/step - accuracy: 0.1944 - loss: 2.9119 - val_accuracy: 0.0000e+00 - val_loss: 3.1720\n",
      "Epoch 65/70\n",
      "\u001b[1m3/3\u001b[0m \u001b[32m━━━━━━━━━━━━━━━━━━━━\u001b[0m\u001b[37m\u001b[0m \u001b[1m0s\u001b[0m 52ms/step - accuracy: 0.1479 - loss: 2.8901 - val_accuracy: 0.0000e+00 - val_loss: 3.1625\n",
      "Epoch 66/70\n",
      "\u001b[1m3/3\u001b[0m \u001b[32m━━━━━━━━━━━━━━━━━━━━\u001b[0m\u001b[37m\u001b[0m \u001b[1m0s\u001b[0m 50ms/step - accuracy: 0.1920 - loss: 2.8651 - val_accuracy: 0.0000e+00 - val_loss: 3.1497\n",
      "Epoch 67/70\n",
      "\u001b[1m3/3\u001b[0m \u001b[32m━━━━━━━━━━━━━━━━━━━━\u001b[0m\u001b[37m\u001b[0m \u001b[1m0s\u001b[0m 44ms/step - accuracy: 0.1740 - loss: 2.8919 - val_accuracy: 0.0000e+00 - val_loss: 3.1385\n",
      "Epoch 68/70\n",
      "\u001b[1m3/3\u001b[0m \u001b[32m━━━━━━━━━━━━━━━━━━━━\u001b[0m\u001b[37m\u001b[0m \u001b[1m0s\u001b[0m 38ms/step - accuracy: 0.1747 - loss: 2.8252 - val_accuracy: 0.0000e+00 - val_loss: 3.1305\n",
      "Epoch 69/70\n",
      "\u001b[1m3/3\u001b[0m \u001b[32m━━━━━━━━━━━━━━━━━━━━\u001b[0m\u001b[37m\u001b[0m \u001b[1m0s\u001b[0m 38ms/step - accuracy: 0.1646 - loss: 2.7944 - val_accuracy: 0.0000e+00 - val_loss: 3.1253\n",
      "Epoch 70/70\n",
      "\u001b[1m3/3\u001b[0m \u001b[32m━━━━━━━━━━━━━━━━━━━━\u001b[0m\u001b[37m\u001b[0m \u001b[1m0s\u001b[0m 45ms/step - accuracy: 0.2337 - loss: 2.8290 - val_accuracy: 0.0000e+00 - val_loss: 3.1174\n",
      "\u001b[1m1/1\u001b[0m \u001b[32m━━━━━━━━━━━━━━━━━━━━\u001b[0m\u001b[37m\u001b[0m \u001b[1m0s\u001b[0m 55ms/step - accuracy: 0.0800 - loss: 3.2725\n",
      "Test Loss: 3.272519111633301\n",
      "Test Accuracy: 0.07999999821186066\n"
     ]
    }
   ],
   "source": [
    "'''# Preprocesamiento de datos\n",
    "X = champions_data[['Home Team', 'Away Team', 'Home Team Goals', 'Away Team Goals']].values\n",
    "y = champions_data['Winner'].values'''\n",
    "\n",
    "# Preprocesamiento de datos\n",
    "X = champions_data[['Home Team', 'Away Team', 'Home Team Goals', 'Away Team Goals']].values\n",
    "y = champions_data['Winner'].values\n",
    "\n",
    "# Separar características categóricas y numéricas\n",
    "categorical_features = ['Home Team', 'Away Team']\n",
    "numeric_features = ['Home Team Goals', 'Away Team Goals']\n",
    "\n",
    "X_categorical = champions_data[categorical_features].values\n",
    "X_numeric = champions_data[numeric_features].values\n",
    "\n",
    "# Codificar características categóricas\n",
    "X_categorical_encoded = np.zeros_like(X_categorical)\n",
    "for i in range(X_categorical.shape[1]):\n",
    "    label_encoder = LabelEncoder()\n",
    "    X_categorical_encoded[:, i] = label_encoder.fit_transform(X_categorical[:, i])\n",
    "\n",
    "# Normalizar características numéricas\n",
    "scaler = StandardScaler()\n",
    "X_numeric_scaled = scaler.fit_transform(X_numeric)\n",
    "\n",
    "# Combinar características categóricas y numéricas\n",
    "X_combined = np.concatenate((X_categorical_encoded, X_numeric_scaled), axis=1)\n",
    "\n",
    "# Codificar etiquetas\n",
    "label_encoder = LabelEncoder()\n",
    "y = label_encoder.fit_transform(champions_data['Winner'])\n",
    "num_classes = len(label_encoder.classes_)\n",
    "\n",
    "# Dividir datos en conjuntos de entrenamiento y prueba\n",
    "X_train, X_test, y_train, y_test = train_test_split(X_combined, y, test_size=0.2, random_state=42)\n",
    "\n",
    "# Normalizar los datos\n",
    "X_train = X_train / np.max(X_train, axis=0)\n",
    "X_test = X_test / np.max(X_test, axis=0)\n",
    "\n",
    "# Convertir etiquetas a one-hot encoding\n",
    "y_train = to_categorical(y_train, num_classes=num_classes)\n",
    "y_test = to_categorical(y_test, num_classes=num_classes)\n",
    "\n",
    "# Definir modelo de red neuronal con más complejidad\n",
    "model = Sequential()\n",
    "model.add(Dense(128, input_shape=(X_train.shape[1],), activation='relu'))\n",
    "model.add(Dropout(0.5))\n",
    "model.add(Dense(64, activation='relu'))\n",
    "model.add(Dropout(0.5))\n",
    "model.add(Dense(32, activation='relu'))\n",
    "model.add(Dense(num_classes, activation='sigmoid'))\n",
    "\n",
    "# Compilar modelo con hiperparámetros ajustados\n",
    "model.compile(loss='categorical_crossentropy', optimizer='adam', metrics=['accuracy'])\n",
    "\n",
    "# Entrenar modelo\n",
    "model.fit(X_train, y_train, epochs=70, batch_size=40, validation_split=0.1)\n",
    "\n",
    "# Evaluar modelo\n",
    "loss, accuracy = model.evaluate(X_test, y_test)\n",
    "print(\"Test Loss:\", loss)\n",
    "print(\"Test Accuracy:\", accuracy)"
   ]
  },
  {
   "cell_type": "markdown",
   "metadata": {},
   "source": [
    "Vemos que el entrenamiento inicial ha ido sin problemas. Vamos a probar a ver que predicciones realizaría nuestra red neuronal en base a los partidos de la Champions utilizada para obtener una medida de precisión real. Para ello primero vamos a medir la precisión de una predicción en general."
   ]
  },
  {
   "cell_type": "code",
   "execution_count": 44,
   "metadata": {},
   "outputs": [
    {
     "name": "stdout",
     "output_type": "stream",
     "text": [
      "WARNING:tensorflow:6 out of the last 6 calls to <function TensorFlowTrainer.make_predict_function.<locals>.one_step_on_data_distributed at 0x000002094CD70E50> triggered tf.function retracing. Tracing is expensive and the excessive number of tracings could be due to (1) creating @tf.function repeatedly in a loop, (2) passing tensors with different shapes, (3) passing Python objects instead of tensors. For (1), please define your @tf.function outside of the loop. For (2), @tf.function has reduce_retracing=True option that can avoid unnecessary retracing. For (3), please refer to https://www.tensorflow.org/guide/function#controlling_retracing and https://www.tensorflow.org/api_docs/python/tf/function for  more details.\n",
      "\u001b[1m1/1\u001b[0m \u001b[32m━━━━━━━━━━━━━━━━━━━━\u001b[0m\u001b[37m\u001b[0m \u001b[1m0s\u001b[0m 175ms/step\n",
      "Accuracy on test data: 0.08\n"
     ]
    }
   ],
   "source": [
    "# Hacer predicciones en los datos de prueba\n",
    "predictions = model.predict(X_test)\n",
    "\n",
    "# Convertir las predicciones de vuelta a etiquetas\n",
    "predicted_labels = np.argmax(predictions, axis=1)\n",
    "true_labels = np.argmax(y_test, axis=1)\n",
    "\n",
    "# Calcular la precisión\n",
    "accuracy = np.mean(predicted_labels == true_labels)\n",
    "print(\"Accuracy on test data:\", accuracy)"
   ]
  },
  {
   "cell_type": "markdown",
   "metadata": {},
   "source": [
    "Como puede verse con este resultado y la medición general anterior, la precisión del modelo es casi inexistente, por lo que vamos a seguir entrenándolo:"
   ]
  },
  {
   "cell_type": "code",
   "execution_count": null,
   "metadata": {},
   "outputs": [],
   "source": []
  }
 ],
 "metadata": {
  "kernelspec": {
   "display_name": "Python 3",
   "language": "python",
   "name": "python3"
  },
  "language_info": {
   "codemirror_mode": {
    "name": "ipython",
    "version": 3
   },
   "file_extension": ".py",
   "mimetype": "text/x-python",
   "name": "python",
   "nbconvert_exporter": "python",
   "pygments_lexer": "ipython3",
   "version": "3.10.0"
  }
 },
 "nbformat": 4,
 "nbformat_minor": 2
}
